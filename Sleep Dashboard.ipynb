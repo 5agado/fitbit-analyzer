{
 "cells": [
  {
   "cell_type": "markdown",
   "metadata": {},
   "source": [
    "# Table of Contents\n",
    "* [Intro](#Intro)\n",
    "* [Load Data](#Load-Data)\n",
    "* [Generate and Save Stats](#Generate-and-Save-Stats)\n",
    "* [Basic Stats](#Basic-Stats)\n",
    "\t* [Preliminary Stats](#Preliminary-Stats)\n",
    "\t* [Weekday Stats](#Weekday-Stats)\n",
    "\t* [Monthly Stats](#Monthly-Stats)\n",
    "\t* [Year-Month Stats](#Year-Month-Stats)\n",
    "\t* [Weekday Stats By Month](#Weekday-Stats-By-Month)\n",
    "\t* [Daily Stats](#Daily-Stats)\n",
    "* [Intraday Stats](#Intraday-Stats)\n",
    "\t* [Daily Stats](#Daily-Stats)\n"
   ]
  },
  {
   "cell_type": "markdown",
   "metadata": {},
   "source": [
    "# Intro"
   ]
  },
  {
   "cell_type": "markdown",
   "metadata": {},
   "source": [
    "This notebook explores analysis and visualization of Fitbit sleep data."
   ]
  },
  {
   "cell_type": "code",
   "execution_count": null,
   "metadata": {
    "ExecuteTime": {
     "end_time": "2017-10-05T09:45:06.073764",
     "start_time": "2017-10-05T09:45:04.280662"
    },
    "collapsed": false
   },
   "outputs": [],
   "source": [
    "import os\n",
    "import sys\n",
    "from os.path import join\n",
    "\n",
    "import pandas as pd\n",
    "import numpy as np\n",
    "import seaborn as sns\n",
    "import time\n",
    "import datetime\n",
    "import matplotlib.pyplot as plt\n",
    "\n",
    "sys.path.append(os.path.join(os.getcwd(), \"src\"))\n",
    "from resources import RESOURCE_PATH\n",
    "from stats import sleepStats, combinedStats\n",
    "from util import utils, plotting as mplot\n",
    "\n",
    "%load_ext autoreload\n",
    "%autoreload 2\n",
    "\n",
    "%matplotlib notebook\n",
    "sns.set_context(\"paper\")\n",
    "\n",
    "dataFolder = \"path_to_your_fitbit_JSON_export\"\n",
    "statsFolder = join(dataFolder, os.path.pardir, 'folder_name_for_generated_stats')"
   ]
  },
  {
   "cell_type": "code",
   "execution_count": null,
   "metadata": {
    "ExecuteTime": {
     "end_time": "2017-10-05T09:45:11.609081",
     "start_time": "2017-10-05T09:45:10.588023"
    },
    "collapsed": false
   },
   "outputs": [],
   "source": [
    "import plotly.plotly as py\n",
    "from plotly.offline import init_notebook_mode, enable_mpl_offline, iplot_mpl\n",
    "import cufflinks as cf\n",
    "init_notebook_mode(connected=True)\n",
    "cf.go_offline(connected=True)\n",
    "enable_mpl_offline()\n",
    "\n",
    "from ipywidgets import interact, widgets\n",
    "#from IPython.display import display, clear_output"
   ]
  },
  {
   "cell_type": "code",
   "execution_count": null,
   "metadata": {
    "ExecuteTime": {
     "end_time": "2017-09-04T10:14:26.728995",
     "start_time": "2017-09-04T10:14:26.329972"
    },
    "collapsed": false
   },
   "outputs": [],
   "source": [
    "# Enable logging from Fitbit Analyer code\n",
    "import logging\n",
    "logger = logging.getLogger()\n",
    "logger.setLevel(logging.ERROR)\n",
    "logger.handlers[0].stream = sys.stdout"
   ]
  },
  {
   "cell_type": "markdown",
   "metadata": {},
   "source": [
    "# Load Data"
   ]
  },
  {
   "cell_type": "code",
   "execution_count": null,
   "metadata": {
    "ExecuteTime": {
     "end_time": "2017-10-05T09:45:17.824436",
     "start_time": "2017-10-05T09:45:17.487417"
    },
    "collapsed": true
   },
   "outputs": [],
   "source": [
    "# helper method to load provided test data\n",
    "def load_test_sleep_data():\n",
    "    filepath =  RESOURCE_PATH + \"\\\\unittest\\\\test_sleep_basic01.csv\"\n",
    "    data1 = utils.loadIntradayData(filepath)\n",
    "    filepath =  RESOURCE_PATH + \"\\\\unittest\\\\test_sleep_basic02.csv\"\n",
    "    data2 = utils.loadIntradayData(filepath)\n",
    "    return [data1, data2]"
   ]
  },
  {
   "cell_type": "markdown",
   "metadata": {},
   "source": [
    "Load sleep data from raw JSON export of Fitbit records."
   ]
  },
  {
   "cell_type": "code",
   "execution_count": null,
   "metadata": {
    "ExecuteTime": {
     "end_time": "2017-10-05T09:45:19.714545",
     "start_time": "2017-10-05T09:45:19.379525"
    },
    "collapsed": false,
    "scrolled": true
   },
   "outputs": [],
   "source": [
    "start = time.time()\n",
    "#sleepData = utils.loadSleepData(dataFolder) # use for loading your own data\n",
    "sleepData = load_test_sleep_data() #use for testing\n",
    "end = time.time()\n",
    "print(\"Data loaded in {:.2f}s\".format(end - start))\n",
    "print(\"Loaded {} dataframes\".format(len(sleepData)))\n",
    "print(\"{} total entries\".format(np.sum([df.size for df in sleepData])))\n",
    "print(\"Sample from first dataframe:\")\n",
    "print(sleepData[0].head())"
   ]
  },
  {
   "cell_type": "markdown",
   "metadata": {},
   "source": [
    "# Generate and Save Stats"
   ]
  },
  {
   "cell_type": "markdown",
   "metadata": {},
   "source": [
    "For the loaded sleep data generate all currently avaiable stats:\n",
    "* **Basic Stats** (sleep values count, sleep efficiency, hours of sleep, total minutes in bed, N max-values for each stat)\n",
    "* **Timing Stats** (first minute asleep, to bed time, wake up time, sleep interval min/max length)\n",
    "* **Intervals Stats** for each day all the sleep intervals lengths\n",
    "* **Intraday Stats** minute to minute report for each day, for the specified sleep values. Total value count, with normalization and centering on specific time."
   ]
  },
  {
   "cell_type": "code",
   "execution_count": null,
   "metadata": {
    "ExecuteTime": {
     "end_time": "2017-10-05T09:55:04.813010",
     "start_time": "2017-10-05T09:55:04.373985"
    },
    "collapsed": false
   },
   "outputs": [],
   "source": [
    "start = time.time()\n",
    "basicAndTimingStats = sleepStats.generateStatsFrom(sleepData, sleepStats.STATS_NAME_BASIC_AND_TIMING)\n",
    "end = time.time()\n",
    "print(\"Computed basicAndTimingStats in {:.2f}s\".format(end - start))\n",
    "start = time.time()\n",
    "intervalsStats = sleepStats.generateStatsFrom(sleepData, sleepStats.STATS_NAME_INTERVALS)\n",
    "end = time.time()\n",
    "print(\"Computed intervalsStats in {:.2f}s\".format(end - start))\n",
    "start = time.time()\n",
    "intradayStats = sleepStats.generateStatsFrom(sleepData, sleepStats.STATS_NAME_INTRADAY)\n",
    "end = time.time()\n",
    "print(\"Computed intradayStats in {:.2f}s\".format(end - start))"
   ]
  },
  {
   "cell_type": "code",
   "execution_count": null,
   "metadata": {
    "collapsed": false
   },
   "outputs": [],
   "source": [
    "#print(basicAndTimingStats.head())\n",
    "#print(intervalsStats.head())\n",
    "#print(intradayStats.head())"
   ]
  },
  {
   "cell_type": "markdown",
   "metadata": {},
   "source": [
    "Save generated stats to file"
   ]
  },
  {
   "cell_type": "code",
   "execution_count": null,
   "metadata": {
    "ExecuteTime": {
     "end_time": "2017-10-05T09:55:16.364671",
     "start_time": "2017-10-05T09:55:16.006650"
    },
    "collapsed": false
   },
   "outputs": [],
   "source": [
    "today = datetime.date.today().strftime(\"%Y_%m_%d\")\n",
    "basicAndTimingStatsFilepath = os.path.join(statsFolder, \"basicAndTimingStats_{}.csv\".format(today))\n",
    "intervalsStatsFilepath = os.path.join(statsFolder, \"intervalStats_{}.csv\".format(today))\n",
    "intradayStatsFilepath = os.path.join(statsFolder, \"intradayStats_{}.csv\".format(today))\n",
    "\n",
    "basicAndTimingStats.to_csv(basicAndTimingStatsFilepath, index=False)\n",
    "intervalsStats.to_csv(intervalsStatsFilepath, index=False)\n",
    "intradayStats.to_csv(intradayStatsFilepath, index=False)"
   ]
  },
  {
   "cell_type": "markdown",
   "metadata": {},
   "source": [
    "# Basic Stats"
   ]
  },
  {
   "cell_type": "code",
   "execution_count": null,
   "metadata": {
    "ExecuteTime": {
     "end_time": "2017-09-05T16:55:58.997528",
     "start_time": "2017-09-05T16:55:58.725513"
    },
    "collapsed": false
   },
   "outputs": [],
   "source": [
    "# load basic and timing stats\n",
    "basicAndTimingStatsFilename = \"basicAndTimingStats_{}.csv\".format(today)\n",
    "basicAndTimingStats = pd.read_csv(os.path.join(statsFolder, basicAndTimingStatsFilename), \n",
    "                    parse_dates=['date', 'to_bed_time', 'wake_up_time'])\n",
    "basicAndTimingStats.head()"
   ]
  },
  {
   "cell_type": "code",
   "execution_count": null,
   "metadata": {
    "ExecuteTime": {
     "end_time": "2017-10-05T09:52:58.611792",
     "start_time": "2017-10-05T09:52:58.296774"
    },
    "collapsed": false
   },
   "outputs": [],
   "source": [
    "basicAndTimingStats.info()"
   ]
  },
  {
   "cell_type": "markdown",
   "metadata": {},
   "source": [
    "## Preliminary Stats"
   ]
  },
  {
   "cell_type": "code",
   "execution_count": null,
   "metadata": {
    "ExecuteTime": {
     "end_time": "2017-10-05T09:48:45.892337",
     "start_time": "2017-10-05T09:48:45.315304"
    },
    "collapsed": false,
    "scrolled": false
   },
   "outputs": [],
   "source": [
    "# plot preliminary stats (static plot) \n",
    "plot = mplot.plotPreliminaryStats(basicAndTimingStats)"
   ]
  },
  {
   "cell_type": "markdown",
   "metadata": {},
   "source": [
    "## Weekday Stats"
   ]
  },
  {
   "cell_type": "code",
   "execution_count": null,
   "metadata": {
    "ExecuteTime": {
     "end_time": "2017-10-05T09:48:52.637723",
     "start_time": "2017-10-05T09:48:52.285703"
    },
    "collapsed": false
   },
   "outputs": [],
   "source": [
    "# plot preliminary stats (static plot) \n",
    "plot = mplot.plotWeekdayStatsSleep(basicAndTimingStats)\n",
    "plot"
   ]
  },
  {
   "cell_type": "code",
   "execution_count": null,
   "metadata": {
    "ExecuteTime": {
     "end_time": "2017-09-05T16:56:42.641025",
     "start_time": "2017-09-05T16:56:41.759974"
    },
    "collapsed": false
   },
   "outputs": [],
   "source": [
    "# transform static plot using Plotly\n",
    "iplot_mpl(plot.fig)"
   ]
  },
  {
   "cell_type": "markdown",
   "metadata": {},
   "source": [
    "## Monthly Stats"
   ]
  },
  {
   "cell_type": "code",
   "execution_count": null,
   "metadata": {
    "ExecuteTime": {
     "end_time": "2017-10-05T09:46:55.711035",
     "start_time": "2017-10-05T09:46:55.341014"
    },
    "collapsed": false
   },
   "outputs": [],
   "source": [
    "plot = mplot.plotMonthlyStatsSleep(basicAndTimingStats)\n",
    "plot"
   ]
  },
  {
   "cell_type": "markdown",
   "metadata": {},
   "source": [
    "## Year-Month Stats"
   ]
  },
  {
   "cell_type": "code",
   "execution_count": null,
   "metadata": {
    "ExecuteTime": {
     "end_time": "2017-10-05T09:47:27.207837",
     "start_time": "2017-10-05T09:47:26.808814"
    },
    "collapsed": false
   },
   "outputs": [],
   "source": [
    "# plot Year-Month stats (static plot)\n",
    "plot = mplot.plotYearAndMonthStatsSleep(basicAndTimingStats)"
   ]
  },
  {
   "cell_type": "code",
   "execution_count": null,
   "metadata": {
    "ExecuteTime": {
     "end_time": "2017-09-05T17:42:43.098914",
     "start_time": "2017-09-05T17:42:41.924847"
    },
    "collapsed": false
   },
   "outputs": [],
   "source": [
    "# interactive single year-month stat\n",
    "@interact(stat_name=mplot.NAMES.keys())\n",
    "def iplot_yearAndMonthStats(stat_name):\n",
    "    data = basicAndTimingStats.groupby(basicAndTimingStats['date'].dt.to_period(\"M\"))[[stat_name]].mean()\n",
    "    data.iplot(title='Year-Month Average - {}'.format(mplot.NAMES[stat_name]))"
   ]
  },
  {
   "cell_type": "markdown",
   "metadata": {},
   "source": [
    "## Weekday Stats By Month"
   ]
  },
  {
   "cell_type": "code",
   "execution_count": null,
   "metadata": {
    "ExecuteTime": {
     "end_time": "2017-09-05T17:51:11.524994",
     "start_time": "2017-09-05T17:51:10.967962"
    },
    "collapsed": false
   },
   "outputs": [],
   "source": [
    "# plot weekday stats by month (static plot) \n",
    "plot = mplot.plotWeekdayStatsByMonthSleep(basicAndTimingStats)"
   ]
  },
  {
   "cell_type": "code",
   "execution_count": null,
   "metadata": {
    "ExecuteTime": {
     "end_time": "2017-09-05T17:51:22.286610",
     "start_time": "2017-09-05T17:51:21.927589"
    },
    "collapsed": true
   },
   "outputs": [],
   "source": [
    "weekdayByMonthStats = mplot._prepareWeekdayByMonthStats(basicAndTimingStats)"
   ]
  },
  {
   "cell_type": "code",
   "execution_count": null,
   "metadata": {
    "ExecuteTime": {
     "end_time": "2017-09-05T18:06:22.766114",
     "start_time": "2017-09-05T18:06:22.357091"
    },
    "collapsed": false
   },
   "outputs": [],
   "source": [
    "@interact(stat_name=mplot.NAMES.keys())\n",
    "def iplot_weekdayByMonthStats(stat_name):\n",
    "    weekdayByMonthStats.pivot('day', 'month', values=stat_name).iplot(title='Weekday By Month - {}'.format(mplot.NAMES[stat_name]),\n",
    "                                                    xTitle='Weekday', yTitle=mplot.NAMES[stat_name])"
   ]
  },
  {
   "cell_type": "markdown",
   "metadata": {},
   "source": [
    "## Daily Stats"
   ]
  },
  {
   "cell_type": "code",
   "execution_count": null,
   "metadata": {
    "ExecuteTime": {
     "end_time": "2017-09-05T18:03:12.380225",
     "start_time": "2017-09-05T18:03:11.974201"
    },
    "collapsed": false
   },
   "outputs": [],
   "source": [
    "@interact(stat_name=mplot.NAMES.keys())\n",
    "def iplot_weekdayByMonthStats(stat_name):\n",
    "    data = basicAndTimingStats[['date', stat_name]].set_index(['date'])\n",
    "    data.iplot(title='Daily Stats - {}'.format(mplot.NAMES[stat_name]), yTitle=mplot.NAMES[stat_name])"
   ]
  },
  {
   "cell_type": "markdown",
   "metadata": {},
   "source": [
    "# Intraday Stats"
   ]
  },
  {
   "cell_type": "code",
   "execution_count": null,
   "metadata": {
    "collapsed": false
   },
   "outputs": [],
   "source": [
    "intradayStatsFilename = \"intradayStats_{}.csv\".format(today)\n",
    "intradayStats = pd.read_csv(os.path.join(statsFolder, intradayStats), \n",
    "                    parse_dates=['date', 'to_bed_time', 'wake_up_time'])\n",
    "intradayStats.drop(\"date\", axis=1, inplace=True)\n",
    "data = intradayStats.apply(pd.value_counts)\n",
    "#mplot.plotSleepValueHeatmap(data, sleepValue=1)"
   ]
  },
  {
   "cell_type": "code",
   "execution_count": null,
   "metadata": {
    "collapsed": false
   },
   "outputs": [],
   "source": [
    "normIntradayCountStats = sleepStats.normalizedIntradayCountStats(intradayStats)\n",
    "centeredIntradayCountStats = sleepStats.centerIntradayCountStats(normIntradayCountStats)\n",
    "#mplot.plotSleepValueHeatmap(centeredIntradayCountStats, sleepValue=1)"
   ]
  },
  {
   "cell_type": "markdown",
   "metadata": {},
   "source": [
    "## Daily Stats\n"
   ]
  },
  {
   "cell_type": "code",
   "execution_count": null,
   "metadata": {
    "collapsed": false
   },
   "outputs": [],
   "source": [
    "#stats.set_index('date', inplace=True)\n",
    "stats['sleep_efficiency_rol_mean'] = stats['sleep_efficiency'].rolling(center=False,window=20).mean()\n",
    "stats['sleep_efficiency'].plot()\n",
    "stats['sleep_efficiency_rol_mean'].plot()\n",
    "sns.plt.show()"
   ]
  },
  {
   "cell_type": "code",
   "execution_count": null,
   "metadata": {
    "collapsed": false
   },
   "outputs": [],
   "source": [
    "testData = stats['restless']\n",
    "testData.resample('20D').mean().plot()\n",
    "testData.plot()\n",
    "sns.plt.show()"
   ]
  }
 ],
 "metadata": {
  "anaconda-cloud": {},
  "kernelspec": {
   "display_name": "Python [conda env:fitbit-analyzer]",
   "language": "python",
   "name": "conda-env-fitbit-analyzer-py"
  },
  "language_info": {
   "codemirror_mode": {
    "name": "ipython",
    "version": 3
   },
   "file_extension": ".py",
   "mimetype": "text/x-python",
   "name": "python",
   "nbconvert_exporter": "python",
   "pygments_lexer": "ipython3",
   "version": "3.5.1"
  },
  "toc": {
   "colors": {
    "hover_highlight": "#DAA520",
    "running_highlight": "#FF0000",
    "selected_highlight": "#FFD700"
   },
   "moveMenuLeft": true,
   "nav_menu": {
    "height": "99px",
    "width": "252px"
   },
   "navigate_menu": true,
   "number_sections": true,
   "sideBar": true,
   "threshold": 4,
   "toc_cell": false,
   "toc_section_display": "block",
   "toc_window_display": true
  }
 },
 "nbformat": 4,
 "nbformat_minor": 0
}
