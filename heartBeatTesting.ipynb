{
 "cells": [
  {
   "cell_type": "code",
   "execution_count": null,
   "metadata": {
    "ExecuteTime": {
     "end_time": "2017-10-05T09:30:32.985827",
     "start_time": "2017-10-05T09:30:31.186724"
    }
   },
   "outputs": [],
   "source": [
    "import pandas as pd\n",
    "import numpy as np\n",
    "import seaborn as sns\n",
    "import datetime\n",
    "\n",
    "from pathlib import Path\n",
    "import os\n",
    "import sys\n",
    "sys.path.append(os.path.join(os.getcwd(), \"src\"))\n",
    "\n",
    "from util import utils\n",
    "from util import plotting\n",
    "from stats import hbStats\n",
    "\n",
    "import time\n",
    "\n",
    "%load_ext autoreload\n",
    "%autoreload 2"
   ]
  },
  {
   "cell_type": "markdown",
   "metadata": {},
   "source": [
    "### Load and prepare data"
   ]
  },
  {
   "cell_type": "code",
   "execution_count": null,
   "metadata": {},
   "outputs": [],
   "source": [
    "dataFolder = str(Path.home() / \"Documents/scripts_data/fitbit_analyzer/dataDump/\")"
   ]
  },
  {
   "cell_type": "code",
   "execution_count": null,
   "metadata": {
    "scrolled": true
   },
   "outputs": [],
   "source": [
    "start = time.time()\n",
    "hbData = utils.loadHBData(dataFolder)\n",
    "end = time.time()\n",
    "print(\"Data loaded in {:.2f}s\".format(end - start))\n",
    "data = pd.concat(hbData, ignore_index=True)\n",
    "print(\"Sample\")\n",
    "print(data.head())"
   ]
  },
  {
   "cell_type": "code",
   "execution_count": null,
   "metadata": {},
   "outputs": [],
   "source": [
    "data.set_index('datetime', inplace=True)"
   ]
  },
  {
   "cell_type": "code",
   "execution_count": null,
   "metadata": {},
   "outputs": [],
   "source": [
    "data[-2:]"
   ]
  },
  {
   "cell_type": "markdown",
   "metadata": {},
   "source": [
    "## Plot"
   ]
  },
  {
   "cell_type": "code",
   "execution_count": null,
   "metadata": {},
   "outputs": [],
   "source": [
    "DAYS = 7\n",
    "WEEKS = 5\n",
    "NB_VALUES = 60*24  # minutes per day\n",
    "assert len(test_data)==DAYS*WEEKS*NB_VALUES"
   ]
  },
  {
   "cell_type": "code",
   "execution_count": null,
   "metadata": {},
   "outputs": [],
   "source": [
    "min_val = 0\n",
    "max_val = 1\n",
    "test_data['value'] = min_val + (((test_data['value'] - test_data['value'].min()) * (max_val - min_val)) / (\n",
    "        test_data['value'].max() - test_data['value'].min()))\n",
    "print(len(test_data))"
   ]
  },
  {
   "cell_type": "code",
   "execution_count": null,
   "metadata": {},
   "outputs": [],
   "source": [
    "%matplotlib notebook\n",
    "from matplotlib import pyplot as plt\n",
    "from matplotlib import animation\n",
    "\n",
    "fig, ax = plt.subplots(dpi=100, figsize=(5, 4))\n",
    "im = ax.imshow(grid, cmap='gray')\n",
    "#plt.axis('off')\n",
    "\n",
    "def animate(i, test_data, im, WEEKS, DAYS, NB_VALUES):\n",
    "    grid = []\n",
    "    for k in range(WEEKS):\n",
    "        week = []\n",
    "        for j in range(DAYS):\n",
    "            week.append(test_data.loc[i+((DAYS*k+j)*NB_VALUES)].value)\n",
    "        grid.append(week)\n",
    "    im.set_data(np.array(grid))\n",
    "\n",
    "ani = animation.FuncAnimation(fig, animate, frames=10000, interval=10,\n",
    "                              fargs=[test_data, im, WEEKS, DAYS, NB_VALUES])  # be sure to pass the additional args needed for the animation\n",
    "                                #.save('anim.mp4', writer=animation.FFMpegFileWriter(fps=30))"
   ]
  },
  {
   "cell_type": "code",
   "execution_count": null,
   "metadata": {},
   "outputs": [],
   "source": [
    "for i in range(50):\n",
    "    grid = []\n",
    "    for k in range(WEEKS):\n",
    "        week = []\n",
    "        for j in range(DAYS):\n",
    "            week.append(test_data.loc[i+((DAYS*k+j)*NB_VALUES)].value)\n",
    "        grid.append(week)\n",
    "    im.set_data(np.array(grid))\n",
    "print(np.array(grid).shape)"
   ]
  },
  {
   "cell_type": "code",
   "execution_count": null,
   "metadata": {},
   "outputs": [],
   "source": [
    "np.array(grid)"
   ]
  },
  {
   "cell_type": "code",
   "execution_count": null,
   "metadata": {},
   "outputs": [],
   "source": [
    "fig, ax = plt.subplots(dpi=100, figsize=(5, 4))\n",
    "im = ax.imshow(np.array(grid), cmap='gray')"
   ]
  },
  {
   "cell_type": "markdown",
   "metadata": {},
   "source": [
    "### Basic Overall Stats"
   ]
  },
  {
   "cell_type": "code",
   "execution_count": null,
   "metadata": {},
   "outputs": [],
   "source": [
    "hbStats.basicStats(data)"
   ]
  },
  {
   "cell_type": "markdown",
   "metadata": {},
   "source": [
    "### Basic Aggregated Stats"
   ]
  },
  {
   "cell_type": "code",
   "execution_count": null,
   "metadata": {},
   "outputs": [],
   "source": [
    "#hourStats = hbStats.groupByBasicStats(data['datetime'].dt.hour, data, 'hour')\n",
    "#plotting.plot(hourStats, ['count', 'max', 'min', 'std'], 'hour', 2, 2)\n",
    "dayStats = hbStats.groupByBasicStats(data['datetime'].dt.day, data, 'day')\n",
    "plotting.plot(dayStats, ['count', 'max', 'min', 'std'], 'day', 2, 2)\n",
    "#monthStats = hbStats.groupByBasicStats(data['datetime'].dt.month, data, 'month')\n",
    "#plotting.plotMonthlyStatsHb(monthStats)\n",
    "#dayOfWeekStats = hbStats.groupByBasicStats(data['datetime'].dt.dayofweek, data, 'weekday')\n",
    "#plotting.plotWeekdayStatsHb(dayOfWeekStats)\n",
    "#plotting.plotDailyStatsHb(data)"
   ]
  },
  {
   "cell_type": "code",
   "execution_count": null,
   "metadata": {},
   "outputs": [],
   "source": [
    "dayStats.head()"
   ]
  },
  {
   "cell_type": "markdown",
   "metadata": {},
   "source": [
    "### Min/Max Values"
   ]
  },
  {
   "cell_type": "code",
   "execution_count": null,
   "metadata": {},
   "outputs": [],
   "source": [
    "hbStats.getMaxValues(data, 5)"
   ]
  },
  {
   "cell_type": "code",
   "execution_count": null,
   "metadata": {},
   "outputs": [],
   "source": [
    "hbStats.getMinValues(data, 5)"
   ]
  },
  {
   "cell_type": "code",
   "execution_count": null,
   "metadata": {},
   "outputs": [],
   "source": []
  }
 ],
 "metadata": {
  "anaconda-cloud": {},
  "kernelspec": {
   "display_name": "Python [conda env:Anaconda3]",
   "language": "python",
   "name": "conda-env-Anaconda3-py"
  },
  "language_info": {
   "codemirror_mode": {
    "name": "ipython",
    "version": 3
   },
   "file_extension": ".py",
   "mimetype": "text/x-python",
   "name": "python",
   "nbconvert_exporter": "python",
   "pygments_lexer": "ipython3",
   "version": "3.6.3"
  },
  "toc": {
   "base_numbering": 1,
   "nav_menu": {
    "height": "104px",
    "width": "252px"
   },
   "number_sections": true,
   "sideBar": true,
   "skip_h1_title": false,
   "title_cell": "Table of Contents",
   "title_sidebar": "Contents",
   "toc_cell": false,
   "toc_position": {},
   "toc_section_display": "block",
   "toc_window_display": false
  }
 },
 "nbformat": 4,
 "nbformat_minor": 1
}
