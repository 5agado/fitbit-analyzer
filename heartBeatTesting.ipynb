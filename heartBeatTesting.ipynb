{
 "cells": [
  {
   "cell_type": "code",
   "execution_count": null,
   "metadata": {
    "collapsed": true
   },
   "outputs": [],
   "source": [
    "%load_ext autoreload\n",
    "%autoreload 2\n",
    "\n",
    "import os\n",
    "import sys\n",
    "sys.path.append(os.path.join(os.getcwd(), \"src\"))\n",
    "\n",
    "import pandas as pd\n",
    "import numpy as np\n",
    "import seaborn as sns\n",
    "import matplotlib.pyplot as plt\n",
    "import importlib\n",
    "import time\n",
    "\n",
    "from util import utils\n",
    "from util import plotting\n",
    "from stats import hbStats"
   ]
  },
  {
   "cell_type": "markdown",
   "metadata": {},
   "source": [
    "### Load and prepare data"
   ]
  },
  {
   "cell_type": "code",
   "execution_count": null,
   "metadata": {
    "collapsed": true
   },
   "outputs": [],
   "source": [
    "dataFolder = \"../../scripts_data/fitbit_analyzer/dataDumpSubset\""
   ]
  },
  {
   "cell_type": "code",
   "execution_count": null,
   "metadata": {
    "collapsed": false
   },
   "outputs": [],
   "source": [
    "start = time.time()\n",
    "hbData = utils.loadHBData(dataFolder)\n",
    "end = time.time()\n",
    "print(\"Data loaded in {:.2f}s\".format(end - start))\n",
    "data = pd.concat(hbData, ignore_index=True)\n",
    "print(\"Sample\")\n",
    "print(data.head())"
   ]
  },
  {
   "cell_type": "markdown",
   "metadata": {},
   "source": [
    "### Basic Overall Stats"
   ]
  },
  {
   "cell_type": "code",
   "execution_count": null,
   "metadata": {
    "collapsed": false
   },
   "outputs": [],
   "source": [
    "hbStats.basicStats(data)"
   ]
  },
  {
   "cell_type": "markdown",
   "metadata": {},
   "source": [
    "### Basic Aggregated Stats"
   ]
  },
  {
   "cell_type": "code",
   "execution_count": null,
   "metadata": {
    "collapsed": true
   },
   "outputs": [],
   "source": [
    "hourStats = hbStats.groupByBasicStats(data['datetime'].dt.hour, data, 'hour')\n",
    "plotting.plot(hourStats, ['count', 'max', 'min', 'std'], 'hour', 2, 2)\n",
    "#dayStats = hbStats.groupByBasicStats(data['datetime'].dt.day, data, 'day')\n",
    "#plotting.plot(dayStats, ['count', 'max', 'min', 'std'], 'day', 2, 2)\n",
    "monthStats = hbStats.groupByBasicStats(data['datetime'].dt.month, data, 'month')\n",
    "plotting.plotMonthlyStatsHb(monthStats)\n",
    "dayOfWeekStats = hbStats.groupByBasicStats(data['datetime'].dt.dayofweek, data, 'weekday')\n",
    "plotting.plotWeekdayStatsHb(dayOfWeekStats)"
   ]
  },
  {
   "cell_type": "markdown",
   "metadata": {},
   "source": [
    "### Daily Plot"
   ]
  },
  {
   "cell_type": "code",
   "execution_count": null,
   "metadata": {
    "collapsed": false
   },
   "outputs": [],
   "source": [
    "nData = data.set_index([\"datetime\"])\n",
    "print(nData.head())\n",
    "#print(data[data['datetime'].dt.date==data['datetime'][0].date()].mean())\n",
    "#nData.resample('1D').mean().plot()\n",
    "resampledData = nData.resample('1D')['value'].agg({'max' : np.max, 'min' : np.min,\n",
    "                                           'mean' : np.mean}).reset_index()\n",
    "meltedData = pd.melt(resampledData, id_vars=['datetime'], value_vars=['max', 'mean', 'min'],\n",
    "                    var_name='var', value_name='value')\n",
    "print(meltedData.head())\n",
    "#resampledData.plot()\n",
    "fig, ax = plt.subplots()\n",
    "sns.pointplot(data=meltedData, x='datetime', y='value', hue='var', ax=ax)\n",
    "from matplotlib.ticker import LinearLocator\n",
    "from matplotlib.ticker import FuncFormatter\n",
    "import matplotlib.dates as dates\n",
    "\n",
    "def myFormatter(x, pos):\n",
    "    return pd.to_datetime(x)\n",
    "\n",
    "#ax.get_yaxis().set_major_locator(LinearLocator(numticks=5))\n",
    "#ax.xaxis.set_major_locator(dates.AutoDateLocator())\n",
    "#ax.xaxis.set_major_formatter(dates.DateFormatter('%Y.%m.%d'))\n",
    "#sns.plt.gca().xaxis.set_major_locator(FuncFormatter(myFormatter))\n",
    "#sns.plt.gca().xaxis.set_major_formatter(dates.DateFormatter('%Y.%m.%d'))\n",
    "sns.plt.gca().xaxis.set_major_formatter(FuncFormatter(myFormatter))\n",
    "# put the labels at 45deg since they tend to be too long\n",
    "#fig.autofmt_xdate()\n",
    "#ax.set_xticklabels(xticks, rotation=45)\n",
    "sns.plt.gcf().autofmt_xdate()\n",
    "sns.plt.show()"
   ]
  },
  {
   "cell_type": "code",
   "execution_count": null,
   "metadata": {
    "collapsed": true
   },
   "outputs": [],
   "source": [
    "plotting.plotDailyStatsHb(data)"
   ]
  },
  {
   "cell_type": "markdown",
   "metadata": {},
   "source": [
    "### Min/Max Values"
   ]
  },
  {
   "cell_type": "code",
   "execution_count": null,
   "metadata": {
    "collapsed": true
   },
   "outputs": [],
   "source": [
    "hbStats.getMaxValues(data, 5)"
   ]
  },
  {
   "cell_type": "code",
   "execution_count": null,
   "metadata": {
    "collapsed": true
   },
   "outputs": [],
   "source": [
    "hbStats.getMinValues(data, 5)"
   ]
  },
  {
   "cell_type": "code",
   "execution_count": null,
   "metadata": {
    "collapsed": true
   },
   "outputs": [],
   "source": [
    ""
   ]
  }
 ],
 "metadata": {
  "kernelspec": {
   "display_name": "Python 3",
   "language": "python",
   "name": "python3"
  },
  "language_info": {
   "codemirror_mode": {
    "name": "ipython",
    "version": 3.0
   },
   "file_extension": ".py",
   "mimetype": "text/x-python",
   "name": "python",
   "nbconvert_exporter": "python",
   "pygments_lexer": "ipython3",
   "version": "3.5.1"
  }
 },
 "nbformat": 4,
 "nbformat_minor": 0
}