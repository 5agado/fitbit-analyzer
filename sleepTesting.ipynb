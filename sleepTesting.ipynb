{
 "cells": [
  {
   "cell_type": "code",
   "execution_count": null,
   "metadata": {
    "collapsed": true
   },
   "outputs": [],
   "source": [
    "%load_ext autoreload\n",
    "%autoreload 2\n",
    "%matplotlib notebook\n",
    "\n",
    "import os\n",
    "import sys\n",
    "sys.path.append(os.path.join(os.getcwd(), \"src\"))\n",
    "\n",
    "import pandas as pd\n",
    "import numpy as np\n",
    "import seaborn as sns\n",
    "import importlib\n",
    "import time\n",
    "import datetime\n",
    "import matplotlib.pyplot as plt\n",
    "from scipy import stats as scipystats\n",
    "\n",
    "from resources import RESOURCE_PATH\n",
    "from stats import sleepStats\n",
    "from util import utils\n",
    "from util import plotting as mplot"
   ]
  },
  {
   "cell_type": "code",
   "execution_count": null,
   "metadata": {
    "collapsed": true
   },
   "outputs": [],
   "source": [
    "import logging\n",
    "logger = logging.getLogger()\n",
    "logger.setLevel(logging.DEBUG)\n",
    "logger.handlers[0].stream = sys.stdout"
   ]
  },
  {
   "cell_type": "markdown",
   "metadata": {},
   "source": [
    "### Load and prepare data"
   ]
  },
  {
   "cell_type": "code",
   "execution_count": null,
   "metadata": {
    "collapsed": true
   },
   "outputs": [],
   "source": [
    "dataFolder = \"..\\\\..\\\\scripts_data\\\\fitbit_analyzer\\\\dataDump\"\n",
    "#filepath =  RESOURCE_PATH + \"\\\\unittest\\\\test_sleepStats.csv\""
   ]
  },
  {
   "cell_type": "code",
   "execution_count": null,
   "metadata": {
    "collapsed": false
   },
   "outputs": [],
   "source": [
    "start = time.time()\n",
    "sleepData = utils.loadSleepData(dataFolder)\n",
    "end = time.time()\n",
    "print(\"Data loaded in {:.2f}s\".format(end - start))\n",
    "print(\"Loaded {} dataframes\".format(len(sleepData)))\n",
    "print(\"{} total entries\".format(np.sum([df.size for df in sleepData])))\n",
    "print(\"Sample from first dataframe:\")\n",
    "print(sleepData[0].head())"
   ]
  },
  {
   "cell_type": "markdown",
   "metadata": {},
   "source": [
    "### Generate and save stats to file"
   ]
  },
  {
   "cell_type": "code",
   "execution_count": null,
   "metadata": {
    "collapsed": false
   },
   "outputs": [],
   "source": [
    "start = time.time()\n",
    "basicAndTimingStats = sleepStats.generateStatsFrom(sleepData, sleepStats.STATS_NAME_BASIC_AND_TIMING)\n",
    "end = time.time()\n",
    "print(\"Computed basicAndTimingStats in {:.2f}s\".format(end - start))\n",
    "intervalsStats = sleepStats.generateStatsFrom(sleepData, sleepStats.STATS_NAME_INTERVALS)\n",
    "end = time.time()\n",
    "print(\"Computed intervalsStats in {:.2f}s\".format(end - start))\n",
    "intradayStats = sleepStats.generateStatsFrom(sleepData, sleepStats.STATS_NAME_INTRADAY)\n",
    "end = time.time()\n",
    "print(\"Computed intradayStats in {:.2f}s\".format(end - start))"
   ]
  },
  {
   "cell_type": "code",
   "execution_count": null,
   "metadata": {
    "collapsed": false
   },
   "outputs": [],
   "source": [
    "#print(basicAndTimingStats.head())\n",
    "#print(intervalsStats.head())\n",
    "#print(intradayStats.head())"
   ]
  },
  {
   "cell_type": "code",
   "execution_count": null,
   "metadata": {
    "collapsed": true
   },
   "outputs": [],
   "source": [
    "today = datetime.date.today().strftime(\"%Y_%m_%d\")\n",
    "basicAndTimingStatsFilepath = \"{}\\\\..\\\\basicAndTimingStats_{}.csv\".format(dataFolder, today)\n",
    "intervalsStatsFilepath = \"{}\\\\..\\\\intervalStats_{}.csv\".format(dataFolder, today)\n",
    "intradayStatsFilepath = \"{}\\\\..\\\\intradayStats_{}.csv\".format(dataFolder, today)\n",
    "\n",
    "basicAndTimingStats.reset_index().to_csv(basicAndTimingStatsFilepath, index=False)\n",
    "intervalsStats.reset_index().to_csv(intervalsStatsFilepath, index=False)\n",
    "intradayStats.reset_index().to_csv(intradayStatsFilepath, index=False)"
   ]
  },
  {
   "cell_type": "markdown",
   "metadata": {},
   "source": [
    "### Load previously exported stats and plot"
   ]
  },
  {
   "cell_type": "code",
   "execution_count": null,
   "metadata": {
    "collapsed": false
   },
   "outputs": [],
   "source": [
    "exportedDate = today\n",
    "stats = pd.read_csv(\"{}\\\\..\\\\basicAndTimingStats_{}.csv\".format(dataFolder, exportedDate), parse_dates=['date'])\n",
    "print(stats.head())"
   ]
  },
  {
   "cell_type": "code",
   "execution_count": null,
   "metadata": {
    "collapsed": false
   },
   "outputs": [],
   "source": [
    "testData = stats.set_index('date')['restless']\n",
    "testData.resample('20D').mean().plot()\n",
    "testData.plot()\n",
    "sns.plt.show()"
   ]
  },
  {
   "cell_type": "code",
   "execution_count": null,
   "metadata": {
    "collapsed": true
   },
   "outputs": [],
   "source": [
    "mplot.plotYearAndMonthStatsSleep(stats)\n",
    "#mplot.plotPreliminaryStats(stats)\n",
    "#mplot.plotWeekdayStatsSleep(stats)\n",
    "#mplot.plotDailyStatsSleep(stats)\n",
    "#mplot.plotMonthlyStatsSleep(stats)"
   ]
  },
  {
   "cell_type": "code",
   "execution_count": null,
   "metadata": {
    "collapsed": false
   },
   "outputs": [],
   "source": [
    "intradayStats = pd.read_csv(\"{}\\\\..\\\\intradayStats_{}.csv\".format(dataFolder, exportedDate))\n",
    "#print(intradayStats.head())\n",
    "intradayStats.drop(\"date\", axis=1, inplace=True)\n",
    "data = intradayStats.apply(pd.value_counts)\n",
    "mplot.plotSleepValueHeatmap(data, sleepValue=1)"
   ]
  },
  {
   "cell_type": "code",
   "execution_count": null,
   "metadata": {
    "collapsed": false
   },
   "outputs": [],
   "source": [
    "normIntradayCountStats = sleepStats.normalizedIntradayCountStats(intradayStats)\n",
    "centeredIntradayCountStats = sleepStats.centerIntradayCountStats(normIntradayCountStats)\n",
    "mplot.plotSleepValueHeatmap(centeredIntradayCountStats, sleepValue=3)"
   ]
  },
  {
   "cell_type": "code",
   "execution_count": null,
   "metadata": {
    "collapsed": true
   },
   "outputs": [],
   "source": []
  }
 ],
 "metadata": {
  "anaconda-cloud": {},
  "kernelspec": {
   "display_name": "Python [default]",
   "language": "python",
   "name": "python3"
  },
  "language_info": {
   "codemirror_mode": {
    "name": "ipython",
    "version": 3
   },
   "file_extension": ".py",
   "mimetype": "text/x-python",
   "name": "python",
   "nbconvert_exporter": "python",
   "pygments_lexer": "ipython3",
   "version": "3.4.5"
  }
 },
 "nbformat": 4,
 "nbformat_minor": 0
}
