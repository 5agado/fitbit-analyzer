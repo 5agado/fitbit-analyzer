{
 "cells": [
  {
   "cell_type": "code",
   "execution_count": 1,
   "metadata": {},
   "outputs": [],
   "source": [
    "import logging\n",
    "import time\n",
    "import os\n",
    "import sys\n",
    "sys.path.append(os.path.join(os.getcwd(), \"..\"))\n",
    "\n",
    "import pandas as pd\n",
    "import numpy as np\n",
    "import seaborn as sns\n",
    "\n",
    "from resources import RESOURCE_PATH\n",
    "from stats import sleepStats\n",
    "from util import utils\n",
    "import importlib\n",
    "import matplotlib.pyplot as plt"
   ]
  },
  {
   "cell_type": "code",
   "execution_count": 2,
   "metadata": {},
   "outputs": [],
   "source": [
    "dataFolder = \"\"\n",
    "filepath =  RESOURCE_PATH + \"\\\\unittest\\\\test_sleepStats.csv\""
   ]
  },
  {
   "cell_type": "code",
   "execution_count": 4,
   "metadata": {},
   "outputs": [
    {
     "data": {
      "text/plain": [
       "<module 'stats.sleepStats' from 'C:\\\\Users\\\\Alex\\\\Documents\\\\python_workspace\\\\fitbit-analyzer\\\\src\\\\test\\\\..\\\\stats\\\\sleepStats.py'>"
      ]
     },
     "execution_count": 4,
     "output_type": "execute_result",
     "metadata": {}
    }
   ],
   "source": [
    "importlib.reload(sleepStats)"
   ]
  },
  {
   "cell_type": "code",
   "execution_count": 22,
   "metadata": {},
   "outputs": [
    {
     "name": "stdout",
     "output_type": "stream",
     "text": [
      "['00:00:00' '00:01:00' '00:02:00' ..., '23:57:00' '23:58:00' '23:59:00']\n"
     ]
    }
   ],
   "source": [
    "stats = pd.read_csv(dataFolder + \"//intradayStats.csv\")\n",
    "print(stats.columns.values)"
   ]
  },
  {
   "cell_type": "code",
   "execution_count": 23,
   "metadata": {},
   "outputs": [],
   "source": [
    "from util import plotting as mplot\n",
    "mplot.plotSleepValueHeatmap(stats)"
   ]
  },
  {
   "cell_type": "code",
   "execution_count": 20,
   "metadata": {},
   "outputs": [],
   "source": [
    "stats = pd.read_csv(dataFolder + \"//stats.csv\")\n",
    "stats = stats[['sleep_inefficiency', 'restless', 'sleep_interval_avg_len', 'total_hours']]\n",
    "#pd.scatter_matrix(stats, alpha=0.5, diagonal='kde')\n",
    "#sns.plt.show()\n",
    "g = sns.PairGrid(stats)\n",
    "\n",
    "from scipy import stats\n",
    "def corrfunc(x, y, **kws):\n",
    "    r, _ = stats.pearsonr(x, y)\n",
    "    ax = plt.gca()\n",
    "    ax.annotate(\"r = {:.2f}\".format(r),xy=(.1, .9), xycoords=ax.transAxes)\n",
    "    \n",
    "g.map_upper(plt.scatter)\n",
    "g.map_diag(plt.hist)\n",
    "g.map_lower(sns.kdeplot, cmap=\"Blues_d\")\n",
    "g.map_upper(corrfunc)\n",
    "sns.plt.show()"
   ]
  },
  {
   "cell_type": "code",
   "execution_count": null,
   "metadata": {},
   "outputs": [],
   "source": [
    ""
   ]
  }
 ],
 "metadata": {
  "kernelspec": {
   "display_name": "Python 3",
   "language": "python",
   "name": "python3"
  },
  "language_info": {
   "codemirror_mode": {
    "name": "ipython",
    "version": 3.0
   },
   "file_extension": ".py",
   "mimetype": "text/x-python",
   "name": "python",
   "nbconvert_exporter": "python",
   "pygments_lexer": "ipython3",
   "version": "3.5.1"
  }
 },
 "nbformat": 4,
 "nbformat_minor": 0
}